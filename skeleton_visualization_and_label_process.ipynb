{
 "cells": [
  {
   "cell_type": "code",
   "execution_count": 1,
   "metadata": {},
   "outputs": [],
   "source": [
    "%matplotlib inline\n",
    "import numpy as np\n",
    "import h5py\n",
    "import os,sys\n",
    "from matplotlib import pyplot as plt\n",
    "from mpl_toolkits import mplot3d\n",
    "from heapq import heappushpop, heappush, heappop "
   ]
  },
  {
   "cell_type": "code",
   "execution_count": 2,
   "metadata": {},
   "outputs": [],
   "source": [
    "sys.setrecursionlimit(50000)"
   ]
  },
  {
   "cell_type": "code",
   "execution_count": 3,
   "metadata": {},
   "outputs": [],
   "source": [
    "def readh5(filename, datasetname='main', rr=[1,1,1]):\n",
    "    fid=h5py.File(filename,'r')\n",
    "    if isinstance(datasetname, (list,)):\n",
    "        out = [None] *len(datasetname)\n",
    "        for i,dd in enumerate(datasetname):\n",
    "            sz = len(fid[dd].shape)\n",
    "            if sz==2:\n",
    "                out[i] = np.array(fid[dd][::rr[0],::rr[1]])\n",
    "            elif sz==3:\n",
    "                out[i] = np.array(fid[dd][::rr[0],::rr[1],::rr[2]])\n",
    "    else:\n",
    "        sz = len(fid[datasetname].shape)\n",
    "        if sz==2:\n",
    "            out = np.array(fid[datasetname][::rr[0],::rr[1]])\n",
    "        elif sz==3:\n",
    "            out = np.array(fid[datasetname][::rr[0],::rr[1],::rr[2]])\n",
    "        elif sz==4:\n",
    "            out = np.array(fid[datasetname][::,::rr[0],::rr[1],::rr[2]])\n",
    "    return out\n",
    "\n",
    "\n",
    "def writeh5(filename, dtarray, datasetname='main'): \n",
    "    fid=h5py.File(filename,'w')                                                                      \n",
    "    if isinstance(datasetname, (list,)):                                                             \n",
    "        for i,dd in enumerate(datasetname):                                                          \n",
    "            ds = fid.create_dataset(dd, dtarray[i].shape, compression=\"gzip\", dtype=dtarray[i].dtype)\n",
    "            ds[:] = dtarray[i]                                                                       \n",
    "    else:                                                                                            \n",
    "        ds = fid.create_dataset(datasetname, dtarray.shape, compression=\"gzip\", dtype=dtarray.dtype) \n",
    "        ds[:] = dtarray                                                                              \n",
    "    fid.close()\n",
    "\n",
    "\n",
    "\n",
    "def find_connected_component(label_volume, threshold = 0.9):\n",
    "    \"\"\"\n",
    "    Find connected components.\n",
    "    \"\"\"\n",
    "    connected_components = []\n",
    "    \n",
    "    label_volume_copy = label_volume.copy()\n",
    "    \n",
    "    Z, X, Y = label_volume_copy.shape\n",
    "    \n",
    "    for z in range(Z):\n",
    "        for x in range(X):\n",
    "            for y in range(Y):\n",
    "                if label_volume_copy[z,x,y] >= threshold:\n",
    "                    \n",
    "                    connected_component = []\n",
    "                    find_connected_component_recursive(label_volume_copy, z, x, y, connected_component, threshold)\n",
    "                    \n",
    "                    connected_components.append(connected_component)\n",
    "                    \n",
    "    return connected_components\n",
    "                \n",
    "                \n",
    "def find_connected_component_recursive(label_volume, z, x, y, connected_component, threshold):\n",
    "    Z, X, Y = label_volume.shape\n",
    "\n",
    "    if z < 0 or z >= Z or x < 0 or x >= X or y < 0 or y >= Y or (z,x,y) in connected_component or label_volume[z,x,y] < threshold:\n",
    "        return\n",
    "    \n",
    "    label_volume[z,x,y] = 0.0\n",
    "    connected_component.append((z,x,y))\n",
    "    \n",
    "    find_connected_component_recursive(label_volume, z+1, x, y, connected_component, threshold)\n",
    "    find_connected_component_recursive(label_volume, z-1, x, y, connected_component, threshold)\n",
    "    find_connected_component_recursive(label_volume, z, x+1, y, connected_component, threshold)\n",
    "    find_connected_component_recursive(label_volume, z, x-1, y, connected_component, threshold)\n",
    "    find_connected_component_recursive(label_volume, z, x, y+1, connected_component, threshold)\n",
    "    find_connected_component_recursive(label_volume, z, x, y-1, connected_component, threshold)\n",
    "    \n",
    "def topK_connected_component(label_volume, threshold=0.9, k=5):\n",
    "    \"\"\"\n",
    "    Find the largest 5 connected components of a volume \n",
    "    and cast all other volume to be 0.\n",
    "    \"\"\"\n",
    "    new_volume = np.zeros(label_volume.shape)\n",
    "    connected_components = find_connected_component(label_volume, threshold)\n",
    "    \n",
    "    heap = []\n",
    "    \n",
    "    for connected_component in connected_components:\n",
    "        if len(heap) >= k:\n",
    "            heappushpop(heap, (len(connected_component), connected_component))\n",
    "        else:\n",
    "            heappush(heap, (len(connected_component), connected_component))\n",
    "    \n",
    "    while len(heap) > 0:\n",
    "        size, heap_connected_component = heappop(heap)\n",
    "        for point in heap_connected_component:\n",
    "            new_volume[point] = 1\n",
    "    \n",
    "    return new_volume\n"
   ]
  },
  {
   "cell_type": "code",
   "execution_count": null,
   "metadata": {},
   "outputs": [],
   "source": [
    "nodes_volume = readh5('demo/node_pos.h5')\n",
    "graph_bfs_40_10 = readh5('demo/graph-bfs-40-10.h5')\n",
    "graph_bfs = readh5('demo/graph-bfs.h5')\n",
    "skeleton = readh5('demo/skeleton.h5')\n",
    "prediction_volume_V3 = readh5('test_V3/result_alpha20/volume_0.h5')\n",
    "V3_bv_cleaned_volume = readh5('V3_bv_cleaned.h5')"
   ]
  },
  {
   "cell_type": "code",
   "execution_count": null,
   "metadata": {
    "scrolled": true
   },
   "outputs": [],
   "source": [
    "np.argwhere(graph_bfs > 0)"
   ]
  },
  {
   "cell_type": "code",
   "execution_count": null,
   "metadata": {
    "scrolled": true
   },
   "outputs": [],
   "source": [
    "volume = topK_connected_component(prediction_volume_V3[1], threshold=0.9, k=1)"
   ]
  },
  {
   "cell_type": "code",
   "execution_count": null,
   "metadata": {},
   "outputs": [],
   "source": [
    "indexes = np.argwhere(volume > 0)"
   ]
  },
  {
   "cell_type": "code",
   "execution_count": null,
   "metadata": {},
   "outputs": [],
   "source": [
    "fig = plt.figure(figsize=(20,10))\n",
    "ax = plt.axes(projection='3d')\n",
    "\n",
    "zdata = indexes[:,0]\n",
    "xdata = indexes[:,1]\n",
    "ydata = indexes[:,2]\n",
    "ax.scatter3D(xdata, ydata, zdata, c=zdata)"
   ]
  },
  {
   "cell_type": "code",
   "execution_count": null,
   "metadata": {},
   "outputs": [],
   "source": [
    "indexes = np.argwhere(prediction_volume_V3[1] > 0.9)"
   ]
  },
  {
   "cell_type": "code",
   "execution_count": null,
   "metadata": {},
   "outputs": [],
   "source": [
    "fig = plt.figure(figsize=(20,10))\n",
    "ax = plt.axes(projection='3d')\n",
    "\n",
    "zdata = indexes[:,0]\n",
    "xdata = indexes[:,1]\n",
    "ydata = indexes[:,2]\n",
    "ax.scatter3D(xdata, ydata, zdata, c=zdata)"
   ]
  },
  {
   "cell_type": "code",
   "execution_count": null,
   "metadata": {},
   "outputs": [],
   "source": [
    "indexes = np.argwhere(skeleton > 0)"
   ]
  },
  {
   "cell_type": "code",
   "execution_count": null,
   "metadata": {
    "scrolled": false
   },
   "outputs": [],
   "source": [
    "fig = plt.figure(figsize=(20,10))\n",
    "ax = plt.axes(projection='3d')\n",
    "\n",
    "zdata = indexes[:,0]\n",
    "xdata = indexes[:,1]\n",
    "ydata = indexes[:,2]\n",
    "ax.scatter3D(xdata, ydata, zdata, c=zdata)"
   ]
  },
  {
   "cell_type": "code",
   "execution_count": null,
   "metadata": {},
   "outputs": [],
   "source": [
    "indexes = np.argwhere(graph_bfs > 0)"
   ]
  },
  {
   "cell_type": "code",
   "execution_count": null,
   "metadata": {},
   "outputs": [],
   "source": [
    "fig = plt.figure(figsize=(20,10))\n",
    "ax = plt.axes(projection='3d')\n",
    "\n",
    "zdata = indexes[:,0]\n",
    "xdata = indexes[:,1]\n",
    "ydata = indexes[:,2]\n",
    "ax.scatter3D(xdata, ydata, zdata, c=zdata)"
   ]
  },
  {
   "cell_type": "code",
   "execution_count": null,
   "metadata": {},
   "outputs": [],
   "source": [
    "fig = plt.figure(figsize=(20,10))\n",
    "ax = plt.axes(projection='3d')\n",
    "\n",
    "#fig = plt.figure(figsize=(20,10))\n",
    "#ax = plt.axes(projection='3d')\n",
    "indexes = np.argwhere(graph_bfs > 0)\n",
    "zdata = indexes[:,0]\n",
    "xdata = indexes[:,1]\n",
    "ydata = indexes[:,2]\n",
    "ax.scatter3D(xdata, ydata, zdata, c='red', alpha=0.1)\n",
    "\n",
    "#ax.scatter3D(nodes_volume[1009,1], nodes_volume[1009,2], nodes_volume[1009,0], c='blue')\n",
    "\n",
    "zdata = nodes_volume[:,0]\n",
    "xdata = nodes_volume[:,1]\n",
    "ydata = nodes_volume[:,2]\n",
    "ax.scatter3D(xdata, ydata, zdata, c=zdata, alpha=0.1)"
   ]
  },
  {
   "cell_type": "code",
   "execution_count": null,
   "metadata": {},
   "outputs": [],
   "source": [
    "a = []\n",
    "for index in indexes:\n",
    "    if index in nodes_volume:\n",
    "        a.append(index)\n",
    "a = np.array(a)\n",
    "print(a)"
   ]
  },
  {
   "cell_type": "code",
   "execution_count": null,
   "metadata": {},
   "outputs": [],
   "source": [
    "fig = plt.figure(figsize=(20,10))\n",
    "ax = plt.axes(projection='3d')\n",
    "\n",
    "zdata = nodes_volume[0:1000][:,0]\n",
    "xdata = nodes_volume[0:1000][:,1]\n",
    "ydata = nodes_volume[0:1000][:,2]\n",
    "ax.scatter3D(xdata, ydata, zdata, c=zdata)"
   ]
  },
  {
   "cell_type": "markdown",
   "metadata": {},
   "source": [
    "### Read and combine feature lists"
   ]
  },
  {
   "cell_type": "code",
   "execution_count": null,
   "metadata": {},
   "outputs": [],
   "source": [
    "dir_img = \"SK-LARGE-MIX-GAUSSIAN/\"\n",
    "dir_degrees = \"SK-LARGE-MIX-GAUSSIAN-DEGREES/\"\n",
    "dir_pos = \"SK-LARGE-MIX-GAUSSIAN-POS/\"\n",
    "dir_radius = \"SK-LARGE-MIX-GAUSSIAN-RADIUS/\"\n",
    "\n",
    "X_array = []\n",
    "Y_array = []\n",
    "\n",
    "for i in range(745):\n",
    "    try:\n",
    "        img_h5 = readh5(dir_img + str(i) + \".h5\")\n",
    "        degrees_h5 = readh5(dir_degrees + str(i) + \".h5\")\n",
    "        pos_h5 = readh5(dir_pos + str(i) + \".h5\")\n",
    "        radius_h5 = readh5(dir_radius + str(i) + \".h5\")\n",
    "        \n",
    "        # Each point has 5 features: z, x, y, radius, degrees\n",
    "        y = np.zeros((pos_h5.shape[0], 5)) \n",
    "        \n",
    "        for i in range(pos_h5.shape[0]):\n",
    "            z_, x_, y_ = pos_h5[i]\n",
    "            radius =  radius_h5[z_, x_, y_]\n",
    "\n",
    "            degree = None\n",
    "    \n",
    "            # Check if this point is an intersection point\n",
    "            for j in range(degrees_h5.shape[0]):\n",
    "                node_index = degrees_h5[j][0]\n",
    "                \n",
    "                if node_index == i:\n",
    "                    degree = degrees_h5[j][1]\n",
    "                    \n",
    "            # All points other than the intersection point has degree 2   \n",
    "            if degree == None:\n",
    "                degree = 2 \n",
    "                \n",
    "            y[i] = np.array([z_, x_, y_, radius, degree])\n",
    "            \n",
    "        Y_array.append(y)\n",
    "        X_array.append(img_h5)\n",
    "        \n",
    "        \n",
    "    except:\n",
    "        # No such file exists. This means when using Ibexhelper to process the original heatmap files\n",
    "        # into nodes and skeletons there are some mistakes.\n",
    "        continue\n",
    "        \n",
    "    "
   ]
  },
  {
   "cell_type": "markdown",
   "metadata": {},
   "source": [
    "## Creat n*5 training points and labels"
   ]
  },
  {
   "cell_type": "code",
   "execution_count": null,
   "metadata": {},
   "outputs": [],
   "source": [
    "dir_img = \"SK-LARGE-MIX-GAUSSIAN/\"\n",
    "dir_degrees = \"SK-LARGE-MIX-GAUSSIAN-DEGREES/\"\n",
    "dir_pos = \"SK-LARGE-MIX-GAUSSIAN-POS/\"\n",
    "dir_radius = \"SK-LARGE-MIX-GAUSSIAN-RADIUS/\"\n",
    "\n",
    "X_array = []\n",
    "Y_array = []\n",
    "\n",
    "for i in range(745):\n",
    "    try:\n",
    "        img_h5 = readh5(dir_img + str(i) + \".h5\")\n",
    "        degrees_h5 = readh5(dir_degrees + str(i) + \".h5\")\n",
    "        pos_h5 = readh5(dir_pos + str(i) + \".h5\")\n",
    "        radius_h5 = readh5(dir_radius + str(i) + \".h5\")\n",
    "        \n",
    "        # Each point has 5 features: z, x, y, radius, degrees\n",
    "        y = np.zeros((degrees_h5.shape[0], 5)) \n",
    "\n",
    "        # Only take intersection points\n",
    "        for j in range(degrees_h5.shape[0]):\n",
    "            node_index, degree = int(degrees_h5[j][0]), degrees_h5[j][1]\n",
    "                                    \n",
    "            z_, x_, y_ = pos_h5[node_index]\n",
    "                \n",
    "            radius =  radius_h5[z_, x_, y_]\n",
    "        \n",
    "\n",
    "            y[j] = np.array([z_, x_, y_, radius, degree])\n",
    "                        \n",
    "        Y_array.append(y)\n",
    "        X_array.append(img_h5)\n",
    "        \n",
    "        \n",
    "    except:\n",
    "        # No such file exists. This means when using Ibexhelper to process the original heatmap files\n",
    "        # into nodes and skeletons there are some mistakes.\n",
    "     #   print(\"exception\")\n",
    "        continue"
   ]
  },
  {
   "cell_type": "code",
   "execution_count": null,
   "metadata": {},
   "outputs": [],
   "source": [
    "X_train = None\n",
    "for x in X_array:\n",
    "    x = np.expand_dims(x, axis=3)\n",
    "    if X_train is None:\n",
    "        X_train = x\n",
    "    else:\n",
    "        X_train = np.concatenate([X_train, x], axis=0)"
   ]
  },
  {
   "cell_type": "code",
   "execution_count": null,
   "metadata": {},
   "outputs": [],
   "source": [
    "X_train.shape"
   ]
  },
  {
   "cell_type": "code",
   "execution_count": null,
   "metadata": {},
   "outputs": [],
   "source": [
    "writeh5(\"SK-LARGE-MIX-GAUSSIAN-train.h5\", X_train)"
   ]
  },
  {
   "cell_type": "code",
   "execution_count": null,
   "metadata": {},
   "outputs": [],
   "source": [
    "max_points = 0\n",
    "for y in Y_array:\n",
    "    max_points = max(max_points, y.shape[0]) \n",
    "\n",
    "# For dataset with less than max_points points, \n",
    "# We sample some replications from the dataset to fill in the gap\n",
    "for i in range(len(Y_array)):\n",
    "    y = Y_array[i]\n",
    "    num_points = y.shape[0]\n",
    "    \n",
    "    if num_points < max_points:\n",
    "        diff = max_points - num_points\n",
    "        indexes = np.random.choice(range(num_points), size=diff)\n",
    "        \n",
    "        for index in indexes:\n",
    "            sample = np.copy(y[index])\n",
    "            sample.shape = (-1, y.shape[1])\n",
    "            y = np.concatenate([y, sample], axis=0)\n",
    "            \n",
    "    y = np.expand_dims(y, axis=0)\n",
    "            \n",
    "    Y_array[i] = y\n",
    "    \n"
   ]
  },
  {
   "cell_type": "code",
   "execution_count": null,
   "metadata": {},
   "outputs": [],
   "source": [
    "Y_train = None\n",
    "\n",
    "for i in range(len(Y_array)):\n",
    "    y = Y_array[i]\n",
    "    if Y_train is None:\n",
    "        Y_train = y\n",
    "    else:\n",
    "        Y_train = np.concatenate([Y_train, y], axis=0)"
   ]
  },
  {
   "cell_type": "code",
   "execution_count": null,
   "metadata": {},
   "outputs": [],
   "source": [
    "Y_train = Y_train.reshape(711, -1)"
   ]
  },
  {
   "cell_type": "code",
   "execution_count": null,
   "metadata": {},
   "outputs": [],
   "source": [
    "writeh5(\"SK-LARGE-MIX-GAUSSIAN-labels.h5\", Y_train)"
   ]
  },
  {
   "cell_type": "markdown",
   "metadata": {},
   "source": [
    "## Creat n*4 training points and labels (exclude the radius)"
   ]
  },
  {
   "cell_type": "code",
   "execution_count": 32,
   "metadata": {},
   "outputs": [],
   "source": [
    "dir_img = \"SK-LARGE-test/\"\n",
    "dir_degrees = \"SK-LARGE-test-DEGREES/\"\n",
    "dir_pos = \"SK-LARGE-test-POS/\"\n",
    "\n",
    "X_array = []\n",
    "Y_array = []\n",
    "\n",
    "for i in range(745):\n",
    "    try:\n",
    "        img_h5 = readh5(dir_img + str(i) + \".h5\")\n",
    "        degrees_h5 = readh5(dir_degrees + str(i) + \".h5\")\n",
    "        pos_h5 = readh5(dir_pos + str(i) + \".h5\")\n",
    "        \n",
    "        # Each point has 4 features: z, x, y, degrees\n",
    "        y = np.zeros((degrees_h5.shape[0], 4)) \n",
    "\n",
    "        # Only take intersection points\n",
    "        for j in range(degrees_h5.shape[0]):\n",
    "            node_index, degree = int(degrees_h5[j][0]), degrees_h5[j][1]\n",
    "                                    \n",
    "            z_, x_, y_ = pos_h5[node_index]\n",
    "\n",
    "            y[j] = np.array([z_, x_, y_, degree])\n",
    "                        \n",
    "        Y_array.append(y)\n",
    "        X_array.append(img_h5)\n",
    "        \n",
    "        \n",
    "    except:\n",
    "        # No such file exists. This means when using Ibexhelper to process the original heatmap files\n",
    "        # into nodes and skeletons there are some mistakes.\n",
    "     #   print(\"exception\")\n",
    "        continue"
   ]
  },
  {
   "cell_type": "code",
   "execution_count": 37,
   "metadata": {},
   "outputs": [
    {
     "data": {
      "text/plain": [
       "<matplotlib.image.AxesImage at 0x7fdfe31efe90>"
      ]
     },
     "execution_count": 37,
     "metadata": {},
     "output_type": "execute_result"
    },
    {
     "data": {
      "image/png": "[encoded data removed]",
      "text/plain": [
       "<Figure size 432x288 with 1 Axes>"
      ]
     },
     "metadata": {},
     "output_type": "display_data"
    }
   ],
   "source": [
    "plt.imshow(X_array[0][0])"
   ]
  },
  {
   "cell_type": "code",
   "execution_count": 41,
   "metadata": {},
   "outputs": [],
   "source": [
    "X_train = None\n",
    "for x in X_array:\n",
    "    x = np.expand_dims(x, axis=3)\n",
    "    if X_train is None:\n",
    "        X_train = x\n",
    "    else:\n",
    "        X_train = np.concatenate([X_train, x], axis=0)"
   ]
  },
  {
   "cell_type": "code",
   "execution_count": 42,
   "metadata": {},
   "outputs": [
    {
     "data": {
      "text/plain": [
       "(513, 256, 256, 1)"
      ]
     },
     "execution_count": 42,
     "metadata": {},
     "output_type": "execute_result"
    }
   ],
   "source": [
    "X_train.shape"
   ]
  },
  {
   "cell_type": "code",
   "execution_count": 43,
   "metadata": {},
   "outputs": [],
   "source": [
    "writeh5(\"SK-LARGE-test-labels.h5\", X_train)"
   ]
  },
  {
   "cell_type": "code",
   "execution_count": 44,
   "metadata": {},
   "outputs": [],
   "source": [
    "max_points = 0\n",
    "for y in Y_array:\n",
    "    max_points = max(max_points, y.shape[0]) \n",
    "\n",
    "# For dataset with less than max_points points, \n",
    "# We sample some replications from the dataset to fill in the gap\n",
    "for i in range(len(Y_array)):\n",
    "    y = Y_array[i]\n",
    "    num_points = y.shape[0]\n",
    "\n",
    "    if num_points < max_points:\n",
    "        diff = max_points - num_points\n",
    "        indexes = np.random.choice(range(num_points), size=diff)\n",
    "        \n",
    "        for index in indexes:\n",
    "            sample = np.copy(y[index])\n",
    "            sample.shape = (-1, y.shape[1])\n",
    "            y = np.concatenate([y, sample], axis=0)\n",
    "            \n",
    "    y = np.expand_dims(y, axis=0)\n",
    "            \n",
    "    Y_array[i] = y\n",
    "    "
   ]
  },
  {
   "cell_type": "code",
   "execution_count": 45,
   "metadata": {},
   "outputs": [],
   "source": [
    "Y_train = None\n",
    "\n",
    "for i in range(len(Y_array)):\n",
    "    y = Y_array[i]\n",
    "    if Y_train is None:\n",
    "        Y_train = y\n",
    "    else:\n",
    "        Y_train = np.concatenate([Y_train, y], axis=0)"
   ]
  },
  {
   "cell_type": "code",
   "execution_count": 46,
   "metadata": {},
   "outputs": [
    {
     "data": {
      "text/plain": [
       "(513, 34, 4)"
      ]
     },
     "execution_count": 46,
     "metadata": {},
     "output_type": "execute_result"
    }
   ],
   "source": [
    "Y_train.shape"
   ]
  },
  {
   "cell_type": "code",
   "execution_count": 47,
   "metadata": {},
   "outputs": [],
   "source": [
    "writeh5(\"SK-LARGE-test-train.h5\", Y_train)"
   ]
  },
  {
   "cell_type": "markdown",
   "metadata": {},
   "source": [
    "## Creat heatmap training points and labels."
   ]
  },
  {
   "cell_type": "code",
   "execution_count": null,
   "metadata": {},
   "outputs": [],
   "source": [
    "dir_img = \"SK-LARGE-MIX-GAUSSIAN/\"\n",
    "dir_degrees = \"SK-LARGE-MIX-GAUSSIAN-DEGREES/\"\n",
    "dir_pos = \"SK-LARGE-MIX-GAUSSIAN-POS/\"\n",
    "dir_radius = \"SK-LARGE-MIX-GAUSSIAN-RADIUS/\"\n",
    "\n",
    "X_array = []\n",
    "Y_array = []\n",
    "\n",
    "for i in range(745):\n",
    "    try:\n",
    "        img_h5 = readh5(dir_img + str(i) + \".h5\")\n",
    "        degrees_h5 = readh5(dir_degrees + str(i) + \".h5\")\n",
    "        pos_h5 = readh5(dir_pos + str(i) + \".h5\")\n",
    "        radius_h5 = readh5(dir_radius + str(i) + \".h5\")\n",
    "        \n",
    "        for i in range(degrees_h5.shape[0]):\n",
    "            data = degrees_h5[i]\n",
    "            \n",
    "        \n",
    "        print(img_h5.shape)\n",
    "        print(degrees_h5)\n",
    "        print(degrees_h5.shape)\n",
    "        print(pos_h5.shape)\n",
    "        print(pos_h5)\n",
    "        print(radius_h5.shape)\n",
    "        \n",
    "        break;\n",
    "        \n",
    "        \n",
    "    except:\n",
    "        # No such file exists. This means when using Ibexhelper to process the original heatmap files\n",
    "        # into nodes and skeletons there are some mistakes.\n",
    "     #   print(\"exception\")\n",
    "        continue"
   ]
  },
  {
   "cell_type": "code",
   "execution_count": null,
   "metadata": {},
   "outputs": [],
   "source": []
  }
 ],
 "metadata": {
  "kernelspec": {
   "display_name": "data-io",
   "language": "python",
   "name": "dataio"
  },
  "language_info": {
   "codemirror_mode": {
    "name": "ipython",
    "version": 2
   },
   "file_extension": ".py",
   "mimetype": "text/x-python",
   "name": "python",
   "nbconvert_exporter": "python",
   "pygments_lexer": "ipython2",
   "version": "2.7.15"
  }
 },
 "nbformat": 4,
 "nbformat_minor": 2
}
