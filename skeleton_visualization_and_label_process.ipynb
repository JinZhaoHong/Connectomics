{
 "cells": [
  {
   "cell_type": "code",
   "execution_count": 39,
   "metadata": {},
   "outputs": [],
   "source": [
    "%matplotlib inline\n",
    "import numpy as np\n",
    "import h5py\n",
    "import os,sys\n",
    "from matplotlib import pyplot as plt\n",
    "from mpl_toolkits import mplot3d\n",
    "from heapq import heappushpop, heappush, heappop \n",
    "import bezier"
   ]
  },
  {
   "cell_type": "code",
   "execution_count": 2,
   "metadata": {},
   "outputs": [],
   "source": [
    "sys.setrecursionlimit(50000)"
   ]
  },
  {
   "cell_type": "code",
   "execution_count": 3,
   "metadata": {},
   "outputs": [],
   "source": [
    "def readh5(filename, datasetname='main', rr=[1,1,1]):\n",
    "    fid=h5py.File(filename,'r')\n",
    "    if isinstance(datasetname, (list,)):\n",
    "        out = [None] *len(datasetname)\n",
    "        for i,dd in enumerate(datasetname):\n",
    "            sz = len(fid[dd].shape)\n",
    "            if sz==2:\n",
    "                out[i] = np.array(fid[dd][::rr[0],::rr[1]])\n",
    "            elif sz==3:\n",
    "                out[i] = np.array(fid[dd][::rr[0],::rr[1],::rr[2]])\n",
    "    else:\n",
    "        sz = len(fid[datasetname].shape)\n",
    "        if sz==2:\n",
    "            out = np.array(fid[datasetname][::rr[0],::rr[1]])\n",
    "        elif sz==3:\n",
    "            out = np.array(fid[datasetname][::rr[0],::rr[1],::rr[2]])\n",
    "        elif sz==4:\n",
    "            out = np.array(fid[datasetname][::,::rr[0],::rr[1],::rr[2]])\n",
    "    return out\n",
    "\n",
    "\n",
    "def writeh5(filename, dtarray, datasetname='main'): \n",
    "    fid=h5py.File(filename,'w')                                                                      \n",
    "    if isinstance(datasetname, (list,)):                                                             \n",
    "        for i,dd in enumerate(datasetname):                                                          \n",
    "            ds = fid.create_dataset(dd, dtarray[i].shape, compression=\"gzip\", dtype=dtarray[i].dtype)\n",
    "            ds[:] = dtarray[i]                                                                       \n",
    "    else:                                                                                            \n",
    "        ds = fid.create_dataset(datasetname, dtarray.shape, compression=\"gzip\", dtype=dtarray.dtype) \n",
    "        ds[:] = dtarray                                                                              \n",
    "    fid.close()\n",
    "\n",
    "\n",
    "\n",
    "def find_connected_component(label_volume, threshold = 0.9):\n",
    "    \"\"\"\n",
    "    Find connected components.\n",
    "    \"\"\"\n",
    "    connected_components = []\n",
    "    \n",
    "    label_volume_copy = label_volume.copy()\n",
    "    \n",
    "    Z, X, Y = label_volume_copy.shape\n",
    "    \n",
    "    for z in range(Z):\n",
    "        for x in range(X):\n",
    "            for y in range(Y):\n",
    "                if label_volume_copy[z,x,y] >= threshold:\n",
    "                    \n",
    "                    connected_component = []\n",
    "                    find_connected_component_recursive(label_volume_copy, z, x, y, connected_component, threshold)\n",
    "                    \n",
    "                    connected_components.append(connected_component)\n",
    "                    \n",
    "    return connected_components\n",
    "                \n",
    "                \n",
    "def find_connected_component_recursive(label_volume, z, x, y, connected_component, threshold):\n",
    "    Z, X, Y = label_volume.shape\n",
    "\n",
    "    if z < 0 or z >= Z or x < 0 or x >= X or y < 0 or y >= Y or (z,x,y) in connected_component or label_volume[z,x,y] < threshold:\n",
    "        return\n",
    "    \n",
    "    label_volume[z,x,y] = 0.0\n",
    "    connected_component.append((z,x,y))\n",
    "    \n",
    "    find_connected_component_recursive(label_volume, z+1, x, y, connected_component, threshold)\n",
    "    find_connected_component_recursive(label_volume, z-1, x, y, connected_component, threshold)\n",
    "    find_connected_component_recursive(label_volume, z, x+1, y, connected_component, threshold)\n",
    "    find_connected_component_recursive(label_volume, z, x-1, y, connected_component, threshold)\n",
    "    find_connected_component_recursive(label_volume, z, x, y+1, connected_component, threshold)\n",
    "    find_connected_component_recursive(label_volume, z, x, y-1, connected_component, threshold)\n",
    "    \n",
    "def topK_connected_component(label_volume, threshold=0.9, k=5):\n",
    "    \"\"\"\n",
    "    Find the largest 5 connected components of a volume \n",
    "    and cast all other volume to be 0.\n",
    "    \"\"\"\n",
    "    new_volume = np.zeros(label_volume.shape)\n",
    "    connected_components = find_connected_component(label_volume, threshold)\n",
    "    \n",
    "    heap = []\n",
    "    \n",
    "    for connected_component in connected_components:\n",
    "        if len(heap) >= k:\n",
    "            heappushpop(heap, (len(connected_component), connected_component))\n",
    "        else:\n",
    "            heappush(heap, (len(connected_component), connected_component))\n",
    "    \n",
    "    while len(heap) > 0:\n",
    "        size, heap_connected_component = heappop(heap)\n",
    "        for point in heap_connected_component:\n",
    "            new_volume[point] = 1\n",
    "    \n",
    "    return new_volume\n"
   ]
  },
  {
   "cell_type": "code",
   "execution_count": null,
   "metadata": {},
   "outputs": [],
   "source": [
    "nodes_volume = readh5('demo/node_pos.h5')\n",
    "graph_bfs_40_10 = readh5('demo/graph-bfs-40-10.h5')\n",
    "graph_bfs = readh5('demo/graph-bfs.h5')\n",
    "skeleton = readh5('demo/skeleton.h5')\n",
    "prediction_volume_V3 = readh5('test_V3/result_alpha20/volume_0.h5')\n",
    "V3_bv_cleaned_volume = readh5('V3_bv_cleaned.h5')"
   ]
  },
  {
   "cell_type": "code",
   "execution_count": null,
   "metadata": {
    "scrolled": true
   },
   "outputs": [],
   "source": [
    "np.argwhere(graph_bfs > 0)"
   ]
  },
  {
   "cell_type": "code",
   "execution_count": null,
   "metadata": {
    "scrolled": true
   },
   "outputs": [],
   "source": [
    "volume = topK_connected_component(prediction_volume_V3[1], threshold=0.9, k=1)"
   ]
  },
  {
   "cell_type": "code",
   "execution_count": null,
   "metadata": {},
   "outputs": [],
   "source": [
    "indexes = np.argwhere(volume > 0)"
   ]
  },
  {
   "cell_type": "code",
   "execution_count": null,
   "metadata": {},
   "outputs": [],
   "source": [
    "fig = plt.figure(figsize=(20,10))\n",
    "ax = plt.axes(projection='3d')\n",
    "\n",
    "zdata = indexes[:,0]\n",
    "xdata = indexes[:,1]\n",
    "ydata = indexes[:,2]\n",
    "ax.scatter3D(xdata, ydata, zdata, c=zdata)"
   ]
  },
  {
   "cell_type": "code",
   "execution_count": null,
   "metadata": {},
   "outputs": [],
   "source": [
    "indexes = np.argwhere(prediction_volume_V3[1] > 0.9)"
   ]
  },
  {
   "cell_type": "code",
   "execution_count": null,
   "metadata": {},
   "outputs": [],
   "source": [
    "fig = plt.figure(figsize=(20,10))\n",
    "ax = plt.axes(projection='3d')\n",
    "\n",
    "zdata = indexes[:,0]\n",
    "xdata = indexes[:,1]\n",
    "ydata = indexes[:,2]\n",
    "ax.scatter3D(xdata, ydata, zdata, c=zdata)"
   ]
  },
  {
   "cell_type": "code",
   "execution_count": null,
   "metadata": {},
   "outputs": [],
   "source": [
    "indexes = np.argwhere(skeleton > 0)"
   ]
  },
  {
   "cell_type": "code",
   "execution_count": null,
   "metadata": {
    "scrolled": false
   },
   "outputs": [],
   "source": [
    "fig = plt.figure(figsize=(20,10))\n",
    "ax = plt.axes(projection='3d')\n",
    "\n",
    "zdata = indexes[:,0]\n",
    "xdata = indexes[:,1]\n",
    "ydata = indexes[:,2]\n",
    "ax.scatter3D(xdata, ydata, zdata, c=zdata)"
   ]
  },
  {
   "cell_type": "code",
   "execution_count": null,
   "metadata": {},
   "outputs": [],
   "source": [
    "indexes = np.argwhere(graph_bfs > 0)"
   ]
  },
  {
   "cell_type": "code",
   "execution_count": null,
   "metadata": {},
   "outputs": [],
   "source": [
    "fig = plt.figure(figsize=(20,10))\n",
    "ax = plt.axes(projection='3d')\n",
    "\n",
    "zdata = indexes[:,0]\n",
    "xdata = indexes[:,1]\n",
    "ydata = indexes[:,2]\n",
    "ax.scatter3D(xdata, ydata, zdata, c=zdata)"
   ]
  },
  {
   "cell_type": "code",
   "execution_count": null,
   "metadata": {},
   "outputs": [],
   "source": [
    "fig = plt.figure(figsize=(20,10))\n",
    "ax = plt.axes(projection='3d')\n",
    "\n",
    "#fig = plt.figure(figsize=(20,10))\n",
    "#ax = plt.axes(projection='3d')\n",
    "indexes = np.argwhere(graph_bfs > 0)\n",
    "zdata = indexes[:,0]\n",
    "xdata = indexes[:,1]\n",
    "ydata = indexes[:,2]\n",
    "ax.scatter3D(xdata, ydata, zdata, c='red', alpha=0.1)\n",
    "\n",
    "#ax.scatter3D(nodes_volume[1009,1], nodes_volume[1009,2], nodes_volume[1009,0], c='blue')\n",
    "\n",
    "zdata = nodes_volume[:,0]\n",
    "xdata = nodes_volume[:,1]\n",
    "ydata = nodes_volume[:,2]\n",
    "ax.scatter3D(xdata, ydata, zdata, c=zdata, alpha=0.1)"
   ]
  },
  {
   "cell_type": "code",
   "execution_count": null,
   "metadata": {},
   "outputs": [],
   "source": [
    "a = []\n",
    "for index in indexes:\n",
    "    if index in nodes_volume:\n",
    "        a.append(index)\n",
    "a = np.array(a)\n",
    "print(a)"
   ]
  },
  {
   "cell_type": "code",
   "execution_count": null,
   "metadata": {},
   "outputs": [],
   "source": [
    "fig = plt.figure(figsize=(20,10))\n",
    "ax = plt.axes(projection='3d')\n",
    "\n",
    "zdata = nodes_volume[0:1000][:,0]\n",
    "xdata = nodes_volume[0:1000][:,1]\n",
    "ydata = nodes_volume[0:1000][:,2]\n",
    "ax.scatter3D(xdata, ydata, zdata, c=zdata)"
   ]
  },
  {
   "cell_type": "markdown",
   "metadata": {},
   "source": [
    "### Read and combine feature lists"
   ]
  },
  {
   "cell_type": "code",
   "execution_count": null,
   "metadata": {},
   "outputs": [],
   "source": [
    "dir_img = \"SK-LARGE-MIX-GAUSSIAN/\"\n",
    "dir_degrees = \"SK-LARGE-MIX-GAUSSIAN-DEGREES/\"\n",
    "dir_pos = \"SK-LARGE-MIX-GAUSSIAN-POS/\"\n",
    "dir_radius = \"SK-LARGE-MIX-GAUSSIAN-RADIUS/\"\n",
    "\n",
    "X_array = []\n",
    "Y_array = []\n",
    "\n",
    "for i in range(745):\n",
    "    try:\n",
    "        img_h5 = readh5(dir_img + str(i) + \".h5\")\n",
    "        degrees_h5 = readh5(dir_degrees + str(i) + \".h5\")\n",
    "        pos_h5 = readh5(dir_pos + str(i) + \".h5\")\n",
    "        radius_h5 = readh5(dir_radius + str(i) + \".h5\")\n",
    "        \n",
    "        # Each point has 5 features: z, x, y, radius, degrees\n",
    "        y = np.zeros((pos_h5.shape[0], 5)) \n",
    "        \n",
    "        for i in range(pos_h5.shape[0]):\n",
    "            z_, x_, y_ = pos_h5[i]\n",
    "            radius =  radius_h5[z_, x_, y_]\n",
    "\n",
    "            degree = None\n",
    "    \n",
    "            # Check if this point is an intersection point\n",
    "            for j in range(degrees_h5.shape[0]):\n",
    "                node_index = degrees_h5[j][0]\n",
    "                \n",
    "                if node_index == i:\n",
    "                    degree = degrees_h5[j][1]\n",
    "                    \n",
    "            # All points other than the intersection point has degree 2   \n",
    "            if degree == None:\n",
    "                degree = 2 \n",
    "                \n",
    "            y[i] = np.array([z_, x_, y_, radius, degree])\n",
    "            \n",
    "        Y_array.append(y)\n",
    "        X_array.append(img_h5)\n",
    "        \n",
    "        \n",
    "    except:\n",
    "        # No such file exists. This means when using Ibexhelper to process the original heatmap files\n",
    "        # into nodes and skeletons there are some mistakes.\n",
    "        continue\n",
    "        \n",
    "    "
   ]
  },
  {
   "cell_type": "markdown",
   "metadata": {},
   "source": [
    "## Creat n*5 training points and labels"
   ]
  },
  {
   "cell_type": "code",
   "execution_count": null,
   "metadata": {},
   "outputs": [],
   "source": [
    "dir_img = \"SK-LARGE-MIX-GAUSSIAN/\"\n",
    "dir_degrees = \"SK-LARGE-MIX-GAUSSIAN-DEGREES/\"\n",
    "dir_pos = \"SK-LARGE-MIX-GAUSSIAN-POS/\"\n",
    "dir_radius = \"SK-LARGE-MIX-GAUSSIAN-RADIUS/\"\n",
    "\n",
    "X_array = []\n",
    "Y_array = []\n",
    "\n",
    "for i in range(745):\n",
    "    try:\n",
    "        img_h5 = readh5(dir_img + str(i) + \".h5\")\n",
    "        degrees_h5 = readh5(dir_degrees + str(i) + \".h5\")\n",
    "        pos_h5 = readh5(dir_pos + str(i) + \".h5\")\n",
    "        radius_h5 = readh5(dir_radius + str(i) + \".h5\")\n",
    "        \n",
    "        # Each point has 5 features: z, x, y, radius, degrees\n",
    "        y = np.zeros((degrees_h5.shape[0], 5)) \n",
    "\n",
    "        # Only take intersection points\n",
    "        for j in range(degrees_h5.shape[0]):\n",
    "            node_index, degree = int(degrees_h5[j][0]), degrees_h5[j][1]\n",
    "                                    \n",
    "            z_, x_, y_ = pos_h5[node_index]\n",
    "                \n",
    "            radius =  radius_h5[z_, x_, y_]\n",
    "        \n",
    "\n",
    "            y[j] = np.array([z_, x_, y_, radius, degree])\n",
    "                        \n",
    "        Y_array.append(y)\n",
    "        X_array.append(img_h5)\n",
    "        \n",
    "        \n",
    "    except:\n",
    "        # No such file exists. This means when using Ibexhelper to process the original heatmap files\n",
    "        # into nodes and skeletons there are some mistakes.\n",
    "     #   print(\"exception\")\n",
    "        continue"
   ]
  },
  {
   "cell_type": "code",
   "execution_count": null,
   "metadata": {},
   "outputs": [],
   "source": [
    "X_train = None\n",
    "for x in X_array:\n",
    "    x = np.expand_dims(x, axis=3)\n",
    "    if X_train is None:\n",
    "        X_train = x\n",
    "    else:\n",
    "        X_train = np.concatenate([X_train, x], axis=0)"
   ]
  },
  {
   "cell_type": "code",
   "execution_count": null,
   "metadata": {},
   "outputs": [],
   "source": [
    "X_train.shape"
   ]
  },
  {
   "cell_type": "code",
   "execution_count": null,
   "metadata": {},
   "outputs": [],
   "source": [
    "writeh5(\"SK-LARGE-MIX-GAUSSIAN-train.h5\", X_train)"
   ]
  },
  {
   "cell_type": "code",
   "execution_count": null,
   "metadata": {},
   "outputs": [],
   "source": [
    "max_points = 0\n",
    "for y in Y_array:\n",
    "    max_points = max(max_points, y.shape[0]) \n",
    "\n",
    "# For dataset with less than max_points points, \n",
    "# We sample some replications from the dataset to fill in the gap\n",
    "for i in range(len(Y_array)):\n",
    "    y = Y_array[i]\n",
    "    num_points = y.shape[0]\n",
    "    \n",
    "    if num_points < max_points:\n",
    "        diff = max_points - num_points\n",
    "        indexes = np.random.choice(range(num_points), size=diff)\n",
    "        \n",
    "        for index in indexes:\n",
    "            sample = np.copy(y[index])\n",
    "            sample.shape = (-1, y.shape[1])\n",
    "            y = np.concatenate([y, sample], axis=0)\n",
    "            \n",
    "    y = np.expand_dims(y, axis=0)\n",
    "            \n",
    "    Y_array[i] = y\n",
    "    \n"
   ]
  },
  {
   "cell_type": "code",
   "execution_count": null,
   "metadata": {},
   "outputs": [],
   "source": [
    "Y_train = None\n",
    "\n",
    "for i in range(len(Y_array)):\n",
    "    y = Y_array[i]\n",
    "    if Y_train is None:\n",
    "        Y_train = y\n",
    "    else:\n",
    "        Y_train = np.concatenate([Y_train, y], axis=0)"
   ]
  },
  {
   "cell_type": "code",
   "execution_count": null,
   "metadata": {},
   "outputs": [],
   "source": [
    "Y_train = Y_train.reshape(711, -1)"
   ]
  },
  {
   "cell_type": "code",
   "execution_count": null,
   "metadata": {},
   "outputs": [],
   "source": [
    "writeh5(\"SK-LARGE-MIX-GAUSSIAN-labels.h5\", Y_train)"
   ]
  },
  {
   "cell_type": "markdown",
   "metadata": {},
   "source": [
    "## Creat n*4 training points and labels (exclude the radius)"
   ]
  },
  {
   "cell_type": "code",
   "execution_count": 21,
   "metadata": {},
   "outputs": [],
   "source": [
    "dir_img = \"SK-LARGE-test/\"\n",
    "dir_degrees = \"SK-LARGE-test-DEGREES/\"\n",
    "dir_pos = \"SK-LARGE-test-POS/\"\n",
    "dir_edges = \"SK-LARGE-test-EDGES/\"\n",
    "\n",
    "X_array = []\n",
    "Y_array = []\n",
    "Edge_array = [] \n",
    "\n",
    "for i in range(745):\n",
    "    try:\n",
    "        img_h5 = readh5(dir_img + str(i) + \".h5\")\n",
    "        degrees_h5 = readh5(dir_degrees + str(i) + \".h5\")\n",
    "        pos_h5 = readh5(dir_pos + str(i) + \".h5\")\n",
    "        edge_h5 = readh5(dir_edges + str(i) + \".h5\")\n",
    "        \n",
    "        # Each point has 5 features: z, x, y, degrees, node_index\n",
    "        y = np.zeros((degrees_h5.shape[0], 5)) \n",
    "\n",
    "        # Only take intersection points\n",
    "        for j in range(degrees_h5.shape[0]):\n",
    "            node_index, degree = int(degrees_h5[j][0]), degrees_h5[j][1]\n",
    "                                    \n",
    "            z_, x_, y_ = pos_h5[node_index]\n",
    "\n",
    "            y[j] = np.array([z_, x_, y_, degree, node_index])\n",
    "                        \n",
    "        Y_array.append(y)\n",
    "        X_array.append(img_h5)\n",
    "        Edge_array.append(edge_h5)\n",
    "        \n",
    "    except:\n",
    "        # No such file exists. This means when using Ibexhelper to process the original heatmap files\n",
    "        # into nodes and skeletons there are some mistakes.\n",
    "        #print(\"Unexpected error:\", sys.exc_info()[0])\n",
    "        continue"
   ]
  },
  {
   "cell_type": "code",
   "execution_count": 22,
   "metadata": {},
   "outputs": [
    {
     "data": {
      "text/plain": [
       "<matplotlib.image.AxesImage at 0x10798b390>"
      ]
     },
     "execution_count": 22,
     "metadata": {},
     "output_type": "execute_result"
    },
    {
     "data": {
      "image/png": "[encoded data removed]",
      "text/plain": [
       "<Figure size 432x288 with 1 Axes>"
      ]
     },
     "metadata": {},
     "output_type": "display_data"
    }
   ],
   "source": [
    "plt.imshow(X_array[0][0])"
   ]
  },
  {
   "cell_type": "code",
   "execution_count": 40,
   "metadata": {},
   "outputs": [
    {
     "data": {
      "text/plain": [
       "array([[  0., 114., 116.,   3., 232.],\n",
       "       [  0., 109., 110.,   3., 201.],\n",
       "       [  0., 148., 128.,   3., 331.],\n",
       "       [  0.,  13.,  84.,   1., 430.],\n",
       "       [  0., 100., 231.,   1., 431.],\n",
       "       [  0., 156., 181.,   1., 432.],\n",
       "       [  0., 159.,  12.,   1., 433.],\n",
       "       [  0., 177., 102.,   1., 434.]])"
      ]
     },
     "execution_count": 40,
     "metadata": {},
     "output_type": "execute_result"
    }
   ],
   "source": [
    "Y_array[0]"
   ]
  },
  {
   "cell_type": "code",
   "execution_count": 41,
   "metadata": {},
   "outputs": [
    {
     "data": {
      "text/plain": [
       "array([[232., 201.],\n",
       "       [232., 331.],\n",
       "       [232., 431.],\n",
       "       [201., 433.],\n",
       "       [201., 430.],\n",
       "       [331., 432.],\n",
       "       [331., 434.]])"
      ]
     },
     "execution_count": 41,
     "metadata": {},
     "output_type": "execute_result"
    }
   ],
   "source": [
    "Edge_array[0]"
   ]
  },
  {
   "cell_type": "code",
   "execution_count": 127,
   "metadata": {},
   "outputs": [
    {
     "name": "stderr",
     "output_type": "stream",
     "text": [
      "No handles with labels found to put in legend.\n"
     ]
    },
    {
     "data": {
      "image/png": "[encoded data removed]",
      "text/plain": [
       "<Figure size 432x288 with 1 Axes>"
      ]
     },
     "metadata": {},
     "output_type": "display_data"
    }
   ],
   "source": [
    "import matplotlib.pyplot as plt\n",
    "import scipy.interpolate as interpolate\n",
    "import bezier\n",
    "import seaborn\n",
    "\n",
    "x1 = np.array([13, 109, 114, 159])\n",
    "fx1 = np.array([84, 110, 116, 12])\n",
    "# k Degree 3 Beizer curves\n",
    "spl1 = interpolate.splrep(x1, fx1, k=3)\n",
    "spline1 = interpolate.splev(x1, spl1)\n",
    "\n",
    "x2 = np.array([100, 156, 159, 177])\n",
    "fx2 = np.array([231, 181, 12, 102])\n",
    "# k Degree 3 Beizer curves\n",
    "spl2 = interpolate.splrep(x2, fx2, k=3)\n",
    "spline2 = interpolate.splev(x2, spl2)\n",
    "\n",
    "plt.plot(x1, fx1, 'o', x1, spline1)\n",
    "plt.plot(x2, fx2, '*', x2, spline2)\n",
    "#plt.plot(x, spline, 'r', label='BSpline')\n",
    "plt.grid()\n",
    "plt.legend(loc='best')\n",
    "plt.show()"
   ]
  },
  {
   "cell_type": "code",
   "execution_count": 33,
   "metadata": {},
   "outputs": [],
   "source": [
    "def edge_array_to_adj_list(edge_array):\n",
    "    \"\"\"\n",
    "    Given an edge array, convert it into an adj list \n",
    "    representation of the graph.\n",
    "    edge_array = \n",
    "    array([[232., 201.],\n",
    "       [232., 331.],\n",
    "       [232., 431.],\n",
    "       [201., 433.],\n",
    "       [201., 430.],\n",
    "       [331., 432.],\n",
    "       [331., 434.]])\n",
    "    \"\"\"\n",
    "    adj_lists = []\n",
    "    for i in range(len(edge_array)):\n",
    "        adj_list = {}\n",
    "        for j in range(len(edge_array[i])):\n",
    "            start_node = edge_array[i][j][0]\n",
    "            end_node = edge_array[i][j][1]\n",
    "            if start_node in adj_list:\n",
    "                adj_list[start_node].append(end_node)\n",
    "            else:\n",
    "                adj_list[start_node] = [end_node]\n",
    "        adj_lists.append(adj_list)\n",
    "    return adj_lists\n",
    "\n",
    "def Y_array_to_coordinate_map(Y_array):\n",
    "    \"\"\"\n",
    "    Y_array = \n",
    "    array([[  0., 114., 116.,   3., 232.],\n",
    "       [  0., 109., 110.,   3., 201.],\n",
    "       [  0., 148., 128.,   3., 331.],\n",
    "       [  0.,  13.,  84.,   1., 430.],\n",
    "       [  0., 100., 231.,   1., 431.],\n",
    "       [  0., 156., 181.,   1., 432.],\n",
    "       [  0., 159.,  12.,   1., 433.],\n",
    "       [  0., 177., 102.,   1., 434.]])\n",
    "       \n",
    "    Coordinate\n",
    "    \"\"\"\n",
    "\n",
    "def build_path(adj_list, Y_array):\n",
    "    \"\"\"\n",
    "    Given an adj list, find all paths using dfs\n",
    "    Y_array = \n",
    "    array([[  0., 114., 116.,   3., 232.],\n",
    "       [  0., 109., 110.,   3., 201.],\n",
    "       [  0., 148., 128.,   3., 331.],\n",
    "       [  0.,  13.,  84.,   1., 430.],\n",
    "       [  0., 100., 231.,   1., 431.],\n",
    "       [  0., 156., 181.,   1., 432.],\n",
    "       [  0., 159.,  12.,   1., 433.],\n",
    "       [  0., 177., 102.,   1., 434.]])\n",
    "    adj_list = {201.0: [433.0, 430.0], 232.0: [201.0, 331.0, 431.0], 331.0: [432.0, 434.0]}\n",
    "    \"\"\"\n",
    "    visited = []\n",
    "    for node in adj_list:\n",
    "        dfs(adf_list, Y_array, visited, [], node)\n",
    "    return visited\n",
    "    \n",
    "def dfs(adj_list, Y_array, visited, path, node):\n",
    "    if not node in adj_list:\n",
    "        if path not in visited:\n",
    "            visited.append(path)\n",
    "        return\n",
    "    neighbors = adj_list[node]\n",
    "    neighbor in neighbors\n",
    "    "
   ]
  },
  {
   "cell_type": "code",
   "execution_count": 35,
   "metadata": {},
   "outputs": [],
   "source": [
    "adj_lists = edge_array_to_adj_list(Edge_array)"
   ]
  },
  {
   "cell_type": "code",
   "execution_count": 129,
   "metadata": {},
   "outputs": [
    {
     "data": {
      "text/plain": [
       "[{201.0: [433.0, 430.0], 232.0: [201.0, 331.0, 431.0], 331.0: [432.0, 434.0]},\n",
       " {201.0: [433.0, 430.0], 232.0: [201.0, 331.0, 431.0], 331.0: [432.0, 434.0]},\n",
       " {47.0: [344.0, 317.0],\n",
       "  65.0: [64.0, 47.0],\n",
       "  69.0: [64.0, 346.0],\n",
       "  224.0: [225.0, 349.0, 345.0],\n",
       "  225.0: [230.0],\n",
       "  226.0: [64.0, 230.0],\n",
       "  230.0: [351.0]},\n",
       " {46.0: [339.0, 340.0],\n",
       "  110.0: [281.0, 341.0, 46.0],\n",
       "  281.0: [283.0],\n",
       "  282.0: [283.0],\n",
       "  344.0: [282.0],\n",
       "  345.0: [283.0]},\n",
       " {84.0: [153.0],\n",
       "  153.0: [414.0],\n",
       "  496.0: [84.0],\n",
       "  497.0: [153.0],\n",
       "  498.0: [84.0],\n",
       "  499.0: [414.0],\n",
       "  500.0: [414.0]}]"
      ]
     },
     "execution_count": 129,
     "metadata": {},
     "output_type": "execute_result"
    }
   ],
   "source": [
    "adj_lists[:5]"
   ]
  },
  {
   "cell_type": "code",
   "execution_count": 8,
   "metadata": {},
   "outputs": [],
   "source": [
    "X_train = None\n",
    "for x in X_array:\n",
    "    x = np.expand_dims(x, axis=3)\n",
    "    if X_train is None:\n",
    "        X_train = x\n",
    "    else:\n",
    "        X_train = np.concatenate([X_train, x], axis=0)"
   ]
  },
  {
   "cell_type": "code",
   "execution_count": 9,
   "metadata": {},
   "outputs": [
    {
     "data": {
      "text/plain": [
       "(512, 256, 256, 1)"
      ]
     },
     "execution_count": 9,
     "metadata": {},
     "output_type": "execute_result"
    }
   ],
   "source": [
    "X_train.shape"
   ]
  },
  {
   "cell_type": "code",
   "execution_count": 10,
   "metadata": {},
   "outputs": [],
   "source": [
    "writeh5(\"SK-LARGE-test-labels.h5\", X_train)"
   ]
  },
  {
   "cell_type": "code",
   "execution_count": 11,
   "metadata": {},
   "outputs": [],
   "source": [
    "max_points = 0\n",
    "for y in Y_array:\n",
    "    max_points = max(max_points, y.shape[0]) \n",
    "\n",
    "# For dataset with less than max_points points, \n",
    "# We sample some replications from the dataset to fill in the gap\n",
    "for i in range(len(Y_array)):\n",
    "    y = Y_array[i]\n",
    "    num_points = y.shape[0]\n",
    "\n",
    "    if num_points < max_points:\n",
    "        diff = max_points - num_points\n",
    "        indexes = np.random.choice(range(num_points), size=diff)\n",
    "        \n",
    "        for index in indexes:\n",
    "            sample = np.copy(y[index])\n",
    "            sample.shape = (-1, y.shape[1])\n",
    "            y = np.concatenate([y, sample], axis=0)\n",
    "            \n",
    "    y = np.expand_dims(y, axis=0)\n",
    "            \n",
    "    Y_array[i] = y\n",
    "    "
   ]
  },
  {
   "cell_type": "code",
   "execution_count": 12,
   "metadata": {},
   "outputs": [],
   "source": [
    "Y_train = None\n",
    "\n",
    "for i in range(len(Y_array)):\n",
    "    y = Y_array[i]\n",
    "    if Y_train is None:\n",
    "        Y_train = y\n",
    "    else:\n",
    "        Y_train = np.concatenate([Y_train, y], axis=0)"
   ]
  },
  {
   "cell_type": "code",
   "execution_count": 13,
   "metadata": {},
   "outputs": [
    {
     "data": {
      "text/plain": [
       "(512, 34, 5)"
      ]
     },
     "execution_count": 13,
     "metadata": {},
     "output_type": "execute_result"
    }
   ],
   "source": [
    "Y_train.shape"
   ]
  },
  {
   "cell_type": "code",
   "execution_count": 15,
   "metadata": {},
   "outputs": [],
   "source": [
    "writeh5(\"SK-LARGE-test-train.h5\", Y_train)"
   ]
  },
  {
   "cell_type": "code",
   "execution_count": null,
   "metadata": {},
   "outputs": [],
   "source": [
    "Y_train = None\n",
    "\n",
    "for i in range(len(Y_array)):\n",
    "    y = Y_array[i]\n",
    "    if Y_train is None:\n",
    "        Y_train = y\n",
    "    else:\n",
    "        Y_train = np.concatenate([Y_train, y], axis=0)"
   ]
  },
  {
   "cell_type": "markdown",
   "metadata": {},
   "source": [
    "## Creat heatmap training points and labels."
   ]
  },
  {
   "cell_type": "code",
   "execution_count": null,
   "metadata": {},
   "outputs": [],
   "source": [
    "dir_img = \"SK-LARGE-MIX-GAUSSIAN/\"\n",
    "dir_degrees = \"SK-LARGE-MIX-GAUSSIAN-DEGREES/\"\n",
    "dir_pos = \"SK-LARGE-MIX-GAUSSIAN-POS/\"\n",
    "dir_radius = \"SK-LARGE-MIX-GAUSSIAN-RADIUS/\"\n",
    "\n",
    "X_array = []\n",
    "Y_array = []\n",
    "\n",
    "for i in range(745):\n",
    "    try:\n",
    "        img_h5 = readh5(dir_img + str(i) + \".h5\")\n",
    "        degrees_h5 = readh5(dir_degrees + str(i) + \".h5\")\n",
    "        pos_h5 = readh5(dir_pos + str(i) + \".h5\")\n",
    "        radius_h5 = readh5(dir_radius + str(i) + \".h5\")\n",
    "        \n",
    "        for i in range(degrees_h5.shape[0]):\n",
    "            data = degrees_h5[i]\n",
    "            \n",
    "        \n",
    "        print(img_h5.shape)\n",
    "        print(degrees_h5)\n",
    "        print(degrees_h5.shape)\n",
    "        print(pos_h5.shape)\n",
    "        print(pos_h5)\n",
    "        print(radius_h5.shape)\n",
    "        \n",
    "        break;\n",
    "        \n",
    "        \n",
    "    except:\n",
    "        # No such file exists. This means when using Ibexhelper to process the original heatmap files\n",
    "        # into nodes and skeletons there are some mistakes.\n",
    "     #   print(\"exception\")\n",
    "        continue"
   ]
  },
  {
   "cell_type": "code",
   "execution_count": null,
   "metadata": {},
   "outputs": [],
   "source": []
  }
 ],
 "metadata": {
  "kernelspec": {
   "display_name": "Python 3",
   "language": "python",
   "name": "python3"
  },
  "language_info": {
   "codemirror_mode": {
    "name": "ipython",
    "version": 3
   },
   "file_extension": ".py",
   "mimetype": "text/x-python",
   "name": "python",
   "nbconvert_exporter": "python",
   "pygments_lexer": "ipython3",
   "version": "3.6.8"
  }
 },
 "nbformat": 4,
 "nbformat_minor": 2
}
