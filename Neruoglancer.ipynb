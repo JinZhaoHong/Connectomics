{
 "cells": [
  {
   "cell_type": "code",
   "execution_count": 1,
   "metadata": {},
   "outputs": [
    {
     "name": "stderr",
     "output_type": "stream",
     "text": [
      "/home/donglai/miniconda2/envs/ng/lib/python2.7/site-packages/h5py/__init__.py:36: FutureWarning: Conversion of the second argument of issubdtype from `float` to `np.floating` is deprecated. In future, it will be treated as `np.float64 == np.dtype(float).type`.\n",
      "  from ._conv import register_converters as _register_converters\n"
     ]
    },
    {
     "name": "stdout",
     "output_type": "stream",
     "text": [
      "http://140.247.107.75:19145/v/d53898dfe4f5e223620025c34d77dd95b94d16de/\n"
     ]
    }
   ],
   "source": [
    "import neuroglancer\n",
    "import numpy as np\n",
    "import h5py\n",
    "import os,sys\n",
    "sys.path.append('/home/donglai/code/')\n",
    "#sys.path.append('/home/zhjin/')\n",
    "\n",
    "\n",
    "ip='140.247.107.75'\n",
    "pp=10000+int(np.random.random()*10000)\n",
    "neuroglancer.set_server_bind_address(bind_address=ip,bind_port=pp)\n",
    "viewer=neuroglancer.Viewer()\n",
    "\n",
    "print(viewer)"
   ]
  },
  {
   "cell_type": "code",
   "execution_count": 2,
   "metadata": {},
   "outputs": [],
   "source": [
    "from T_util import readh5,relabel, ngLayer, remove_small\n",
    "Dl='/home/zhjin/'\n",
    "res=[630,630,630]\n",
    "# display image\n",
    "\n",
    "nid=2;\n",
    "\n",
    "im = readh5(Dl+'skeleton.h5')\n",
    "if im.dtype!=np.uint8:\n",
    "    im = ((im-im.min())/(im.max()-im.min())*255).astype(np.uint8)\n",
    "\n",
    "\n",
    "with viewer.txn() as s:\n",
    "    s.layers.append(name='im', layer=ngLayer(im,res,tt='image'))\n"
   ]
  },
  {
   "cell_type": "code",
   "execution_count": 2,
   "metadata": {},
   "outputs": [],
   "source": [
    "from T_util import readh5,relabel, ngLayer, remove_small\n",
    "Dl='/mnt/coxfs01/vcg_connectomics/Dyer17/data/train/'\n",
    "res=[630,630,630]\n",
    "# display image\n",
    "\n",
    "\n",
    "nid=2;\n",
    "\n",
    "\n",
    "im = readh5(Dl+'V%d/V%d_img.h5'%(nid,nid))\n",
    "if im.dtype!=np.uint8:\n",
    "    im = ((im-im.min())/(im.max()-im.min())*255).astype(np.uint8)\n",
    "\n",
    "seg = readh5(Dl+'V%d/V%d_anno_dense_bv_cell_corrected.h5'%(nid,nid)).astype(np.uint16)\n",
    "\n",
    "\n",
    "with viewer.txn() as s:\n",
    "    s.layers.append(name='im', layer=ngLayer(im,res,tt='image'))\n",
    "    s.layers.append(name='cell body', layer=ngLayer(seg,res))"
   ]
  },
  {
   "cell_type": "code",
   "execution_count": null,
   "metadata": {},
   "outputs": [],
   "source": [
    "from T_util import readh5,relabel, ngLayer, remove_small\n",
    "Dl='/mnt/coxfs01/vcg_connectomics/Dyer17/data/train/'\n",
    "res=[630,630,630]\n",
    "# display image\n",
    "\n",
    "\n",
    "nid=3;\n",
    "\n",
    "\n",
    "im = readh5(Dl+'V%d/V%d_img.h5'%(nid,nid))\n",
    "if im.dtype!=np.uint8:\n",
    "    im = ((im-im.min())/(im.max()-im.min())*255).astype(np.uint8)\n",
    "\n",
    "seg = readh5(Dl+'V%d/V%d_anno_sparse_cellcenters.h5'%(nid,nid)).astype(np.uint16)\n",
    "\n",
    "\n",
    "with viewer.txn() as s:\n",
    "    s.layers.append(name='im', layer=ngLayer(im,res,tt='image'))\n",
    "    s.layers.append(name='cell body', layer=ngLayer(seg,res))"
   ]
  },
  {
   "cell_type": "code",
   "execution_count": null,
   "metadata": {},
   "outputs": [],
   "source": [
    "from T_util import readh5,relabel, ngLayer, remove_small\n",
    "Dl='/mnt/coxfs01/vcg_connectomics/Dyer17/data/train/'\n",
    "res=[630,630,630]\n",
    "# display image\n",
    "\n",
    "\n",
    "nid=2;\n",
    "\n",
    "\n",
    "im = readh5(Dl+'V%d/V%d_img.h5'%(nid,nid))\n",
    "if im.dtype!=np.uint8:\n",
    "    im = ((im-im.min())/(im.max()-im.min())*255).astype(np.uint8)\n",
    "\n",
    "seg = readh5('V%d_anno_dense_bv_cell_corrected.h5'%(nid)).astype(np.uint16)\n",
    "\n",
    "\n",
    "with viewer.txn() as s:\n",
    "    s.layers.append(name='im', layer=ngLayer(im,res,tt='image'))\n",
    "    s.layers.append(name='cell body', layer=ngLayer(seg,res))"
   ]
  }
 ],
 "metadata": {
  "kernelspec": {
   "display_name": "ng",
   "language": "python",
   "name": "ng"
  },
  "language_info": {
   "codemirror_mode": {
    "name": "ipython",
    "version": 2
   },
   "file_extension": ".py",
   "mimetype": "text/x-python",
   "name": "python",
   "nbconvert_exporter": "python",
   "pygments_lexer": "ipython2",
   "version": "2.7.15"
  }
 },
 "nbformat": 4,
 "nbformat_minor": 2
}
