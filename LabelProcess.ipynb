{
 "cells": [
  {
   "cell_type": "code",
   "execution_count": 1,
   "metadata": {},
   "outputs": [],
   "source": [
    "import numpy as np\n",
    "import h5py\n",
    "import os,sys\n",
    "from matplotlib import pyplot as plt"
   ]
  },
  {
   "cell_type": "code",
   "execution_count": 12,
   "metadata": {},
   "outputs": [],
   "source": [
    "def readh5(filename, datasetname='main', rr=[1,1,1]):\n",
    "    fid=h5py.File(filename,'r')\n",
    "    if isinstance(datasetname, (list,)):\n",
    "        out = [None] *len(datasetname)\n",
    "        for i,dd in enumerate(datasetname):\n",
    "            sz = len(fid[dd].shape)\n",
    "            if sz==2:\n",
    "                out[i] = np.array(fid[dd][::rr[0],::rr[1]])\n",
    "            elif sz==3:\n",
    "                out[i] = np.array(fid[dd][::rr[0],::rr[1],::rr[2]])\n",
    "    else:\n",
    "        sz = len(fid[datasetname].shape)\n",
    "        if sz==2:\n",
    "            out = np.array(fid[datasetname][::rr[0],::rr[1]])\n",
    "        elif sz==3:\n",
    "            out = np.array(fid[datasetname][::rr[0],::rr[1],::rr[2]])\n",
    "        elif sz==4:\n",
    "            out = np.array(fid[datasetname][::,::rr[0],::rr[1],::rr[2]])\n",
    "    return out\n",
    "\n",
    "def writeh5(filename, dtarray, datasetname='main'): \n",
    "    fid=h5py.File(filename,'w')                                                                      \n",
    "    if isinstance(datasetname, (list,)):                                                             \n",
    "        for i,dd in enumerate(datasetname):                                                          \n",
    "            ds = fid.create_dataset(dd, dtarray[i].shape, compression=\"gzip\", dtype=dtarray[i].dtype)\n",
    "            ds[:] = dtarray[i]                                                                       \n",
    "    else:                                                                                            \n",
    "        ds = fid.create_dataset(datasetname, dtarray.shape, compression=\"gzip\", dtype=dtarray.dtype) \n",
    "        ds[:] = dtarray                                                                              \n",
    "    fid.close()\n",
    "\n",
    "def processLabels(label_volume, bv_labels):\n",
    "    \"\"\"\n",
    "    The goal is to make backgound:0, bloodvessel:1, cellbody:2\n",
    "    \"\"\"\n",
    "    Z, X, Y = label_volume.shape\n",
    "    \n",
    "    for z in range(Z):\n",
    "        for x in range(X):\n",
    "            for y in range(Y):\n",
    "                if label_volume[z,x,y] in bv_labels:\n",
    "                    label_volume[z,x,y] = 1\n",
    "                elif label_volume[z,x,y] > 0:\n",
    "                    label_volume[z,x,y] = 2\n",
    "    return label_volume"
   ]
  },
  {
   "cell_type": "code",
   "execution_count": 3,
   "metadata": {},
   "outputs": [],
   "source": [
    "v1_bv_label = [494, 489, 514, 486, 476, 521, 522, 495, 510]\n",
    "v2_bv_label = [1,2,3,4,5,8,10,15,16] # Manually examined from neuro glancer."
   ]
  },
  {
   "cell_type": "code",
   "execution_count": 4,
   "metadata": {},
   "outputs": [],
   "source": [
    "v1_label = readh5(\"V1/V1_anno_dense_bv_cell.h5\")"
   ]
  },
  {
   "cell_type": "code",
   "execution_count": 5,
   "metadata": {},
   "outputs": [],
   "source": [
    "v1_label_corrected = processLabels(v1_label, v1_bv_label)"
   ]
  },
  {
   "cell_type": "code",
   "execution_count": 6,
   "metadata": {},
   "outputs": [
    {
     "data": {
      "text/plain": [
       "array([0, 1, 2])"
      ]
     },
     "execution_count": 6,
     "metadata": {},
     "output_type": "execute_result"
    }
   ],
   "source": [
    "np.unique(v1_label_corrected)"
   ]
  },
  {
   "cell_type": "code",
   "execution_count": 13,
   "metadata": {},
   "outputs": [],
   "source": [
    "writeh5(\"V1_anno_dense_bv_cell_corrected.h5\", v1_label_corrected)"
   ]
  },
  {
   "cell_type": "code",
   "execution_count": 7,
   "metadata": {},
   "outputs": [],
   "source": [
    "v2_label = readh5(\"V2/V2_anno_dense_bv_cell.h5\")"
   ]
  },
  {
   "cell_type": "code",
   "execution_count": 8,
   "metadata": {},
   "outputs": [],
   "source": [
    "v2_label_corrected = processLabels(v2_label, v2_bv_label)"
   ]
  },
  {
   "cell_type": "code",
   "execution_count": 9,
   "metadata": {},
   "outputs": [
    {
     "data": {
      "text/plain": [
       "array([0, 1, 2])"
      ]
     },
     "execution_count": 9,
     "metadata": {},
     "output_type": "execute_result"
    }
   ],
   "source": [
    "np.unique(v2_label_corrected)"
   ]
  },
  {
   "cell_type": "code",
   "execution_count": 14,
   "metadata": {},
   "outputs": [],
   "source": [
    "writeh5(\"V2_anno_dense_bv_cell_corrected.h5\", v2_label_corrected)"
   ]
  }
 ],
 "metadata": {
  "kernelspec": {
   "display_name": "data-io",
   "language": "python",
   "name": "dataio"
  },
  "language_info": {
   "codemirror_mode": {
    "name": "ipython",
    "version": 2
   },
   "file_extension": ".py",
   "mimetype": "text/x-python",
   "name": "python",
   "nbconvert_exporter": "python",
   "pygments_lexer": "ipython2",
   "version": "2.7.15"
  }
 },
 "nbformat": 4,
 "nbformat_minor": 2
}
